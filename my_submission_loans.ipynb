{
 "cells": [
  {
   "cell_type": "markdown",
   "id": "308c44ce-806c-41b3-8ffd-a24167abdb72",
   "metadata": {},
   "source": [
    "# Loan Approval Prediction\n",
    "\n",
    "**The Goal:** The goal for this competition is to predict whether an applicant is approved for a loan. This column, \"loan status\" is represented in the dataset as a binary outcome with values 0 (loan denied) and 1 (loan approved). \n",
    "\n",
    "This is therefore a supervised learning problem; specifically, a binary classification problem.\n",
    "\n",
    "[Kaggle Competition (playground series)](https://www.kaggle.com/competitions/playground-series-s4e10/overview)\n",
    "\n"
   ]
  },
  {
   "cell_type": "markdown",
   "id": "c587617d-7bd3-4ecc-a0b9-7dd4b7af53ed",
   "metadata": {},
   "source": [
    "### Evaluation Metric\n",
    "\n",
    "Submissions are evaluated using area under the receiver operating characteristic curve (ROC AUC) using the predicted probabilities and the ground truth targets."
   ]
  },
  {
   "cell_type": "markdown",
   "id": "ab73beab-bfa6-4187-8742-bbec0f99e229",
   "metadata": {},
   "source": [
    "### Submission File\n",
    "For each id row in the test set, you must predict target loan_status. The file should contain a header and have the following format:\n",
    "```\n",
    "id,loan_status\n",
    "58645,0.5\n",
    "58646,0.5\n",
    "58647,0.5\n",
    "etc.\n",
    "```\n"
   ]
  },
  {
   "cell_type": "markdown",
   "id": "9f57cd93-42e2-4e37-b691-ff733bcc94e7",
   "metadata": {},
   "source": [
    "### Dataset Description\n",
    "\n",
    "The dataset for this competition (both train and test) was generated from a deep learning model trained on the [Loan Approval Prediction](https://www.kaggle.com/datasets/chilledwanker/loan-approval-prediction) dataset. Feature distributions are close to, but not exactly the same, as the original. "
   ]
  },
  {
   "cell_type": "markdown",
   "id": "8e6ef55c-3932-4a70-b130-91903f094cae",
   "metadata": {},
   "source": [
    "### Files\n",
    "* **train.csv**- the training dataset; ```loan_status``` is the binary target.\n",
    "* **test.csv**- the test dataset; your objective is to predict the probability of the target ```loan_status``` for each row\n",
    "* **sample_submission.csv**- a sample submission file in the correct format."
   ]
  },
  {
   "cell_type": "code",
   "execution_count": 163,
   "id": "8703f212-9ae0-4b38-8821-e9f369a24950",
   "metadata": {},
   "outputs": [],
   "source": [
    "import numpy as np # linear algebra\n",
    "import pandas as pd # data processing, CSV file I/O (e.g. pd.read_csv)\n",
    "from sklearn.preprocessing import LabelEncoder\n",
    "from sklearn.model_selection import train_test_split\n",
    "from sklearn.preprocessing import StandardScaler, LabelEncoder, OneHotEncoder\n",
    "from tensorflow.keras.utils import to_categorical\n",
    "import tensorflow as tf\n",
    "#from tensorflow.keras.models import Sequential\n",
    "#from tensorflow.keras.layers import Dense\n",
    "from sklearn.model_selection import StratifiedKFold, KFold, cross_val_score\n",
    "from sklearn.metrics import accuracy_score\n",
    "from sklearn.compose import ColumnTransformer\n",
    "from imblearn.over_sampling import SMOTE, ADASYN\n",
    "from collections import Counter\n",
    "import xgboost as xgb"
   ]
  },
  {
   "cell_type": "code",
   "execution_count": 165,
   "id": "6e2b39b4-29af-44f1-a0b9-a83433ef7b3d",
   "metadata": {},
   "outputs": [],
   "source": [
    "df = pd.read_csv(\"train.csv\")\n",
    "test = pd.read_csv(\"test.csv\")\n",
    "sample = pd.read_csv(\"sample_submission.csv\")"
   ]
  },
  {
   "cell_type": "code",
   "execution_count": 14,
   "id": "be1691df-c938-4729-8a24-61d0ef9b1417",
   "metadata": {},
   "outputs": [
    {
     "data": {
      "text/html": [
       "<div>\n",
       "<style scoped>\n",
       "    .dataframe tbody tr th:only-of-type {\n",
       "        vertical-align: middle;\n",
       "    }\n",
       "\n",
       "    .dataframe tbody tr th {\n",
       "        vertical-align: top;\n",
       "    }\n",
       "\n",
       "    .dataframe thead th {\n",
       "        text-align: right;\n",
       "    }\n",
       "</style>\n",
       "<table border=\"1\" class=\"dataframe\">\n",
       "  <thead>\n",
       "    <tr style=\"text-align: right;\">\n",
       "      <th></th>\n",
       "      <th>id</th>\n",
       "      <th>person_age</th>\n",
       "      <th>person_income</th>\n",
       "      <th>person_home_ownership</th>\n",
       "      <th>person_emp_length</th>\n",
       "      <th>loan_intent</th>\n",
       "      <th>loan_grade</th>\n",
       "      <th>loan_amnt</th>\n",
       "      <th>loan_int_rate</th>\n",
       "      <th>loan_percent_income</th>\n",
       "      <th>cb_person_default_on_file</th>\n",
       "      <th>cb_person_cred_hist_length</th>\n",
       "      <th>loan_status</th>\n",
       "    </tr>\n",
       "  </thead>\n",
       "  <tbody>\n",
       "    <tr>\n",
       "      <th>0</th>\n",
       "      <td>0</td>\n",
       "      <td>37</td>\n",
       "      <td>35000</td>\n",
       "      <td>RENT</td>\n",
       "      <td>0.0</td>\n",
       "      <td>EDUCATION</td>\n",
       "      <td>B</td>\n",
       "      <td>6000</td>\n",
       "      <td>11.49</td>\n",
       "      <td>0.17</td>\n",
       "      <td>N</td>\n",
       "      <td>14</td>\n",
       "      <td>0</td>\n",
       "    </tr>\n",
       "    <tr>\n",
       "      <th>1</th>\n",
       "      <td>1</td>\n",
       "      <td>22</td>\n",
       "      <td>56000</td>\n",
       "      <td>OWN</td>\n",
       "      <td>6.0</td>\n",
       "      <td>MEDICAL</td>\n",
       "      <td>C</td>\n",
       "      <td>4000</td>\n",
       "      <td>13.35</td>\n",
       "      <td>0.07</td>\n",
       "      <td>N</td>\n",
       "      <td>2</td>\n",
       "      <td>0</td>\n",
       "    </tr>\n",
       "    <tr>\n",
       "      <th>2</th>\n",
       "      <td>2</td>\n",
       "      <td>29</td>\n",
       "      <td>28800</td>\n",
       "      <td>OWN</td>\n",
       "      <td>8.0</td>\n",
       "      <td>PERSONAL</td>\n",
       "      <td>A</td>\n",
       "      <td>6000</td>\n",
       "      <td>8.90</td>\n",
       "      <td>0.21</td>\n",
       "      <td>N</td>\n",
       "      <td>10</td>\n",
       "      <td>0</td>\n",
       "    </tr>\n",
       "    <tr>\n",
       "      <th>3</th>\n",
       "      <td>3</td>\n",
       "      <td>30</td>\n",
       "      <td>70000</td>\n",
       "      <td>RENT</td>\n",
       "      <td>14.0</td>\n",
       "      <td>VENTURE</td>\n",
       "      <td>B</td>\n",
       "      <td>12000</td>\n",
       "      <td>11.11</td>\n",
       "      <td>0.17</td>\n",
       "      <td>N</td>\n",
       "      <td>5</td>\n",
       "      <td>0</td>\n",
       "    </tr>\n",
       "    <tr>\n",
       "      <th>4</th>\n",
       "      <td>4</td>\n",
       "      <td>22</td>\n",
       "      <td>60000</td>\n",
       "      <td>RENT</td>\n",
       "      <td>2.0</td>\n",
       "      <td>MEDICAL</td>\n",
       "      <td>A</td>\n",
       "      <td>6000</td>\n",
       "      <td>6.92</td>\n",
       "      <td>0.10</td>\n",
       "      <td>N</td>\n",
       "      <td>3</td>\n",
       "      <td>0</td>\n",
       "    </tr>\n",
       "  </tbody>\n",
       "</table>\n",
       "</div>"
      ],
      "text/plain": [
       "   id  person_age  person_income person_home_ownership  person_emp_length  \\\n",
       "0   0          37          35000                  RENT                0.0   \n",
       "1   1          22          56000                   OWN                6.0   \n",
       "2   2          29          28800                   OWN                8.0   \n",
       "3   3          30          70000                  RENT               14.0   \n",
       "4   4          22          60000                  RENT                2.0   \n",
       "\n",
       "  loan_intent loan_grade  loan_amnt  loan_int_rate  loan_percent_income  \\\n",
       "0   EDUCATION          B       6000          11.49                 0.17   \n",
       "1     MEDICAL          C       4000          13.35                 0.07   \n",
       "2    PERSONAL          A       6000           8.90                 0.21   \n",
       "3     VENTURE          B      12000          11.11                 0.17   \n",
       "4     MEDICAL          A       6000           6.92                 0.10   \n",
       "\n",
       "  cb_person_default_on_file  cb_person_cred_hist_length  loan_status  \n",
       "0                         N                          14            0  \n",
       "1                         N                           2            0  \n",
       "2                         N                          10            0  \n",
       "3                         N                           5            0  \n",
       "4                         N                           3            0  "
      ]
     },
     "execution_count": 14,
     "metadata": {},
     "output_type": "execute_result"
    }
   ],
   "source": [
    "df.head()"
   ]
  },
  {
   "cell_type": "code",
   "execution_count": 167,
   "id": "20d8e96c-e80f-49e1-b9aa-939e197b9ef6",
   "metadata": {},
   "outputs": [],
   "source": [
    "df.drop(\"id\", axis=1, inplace=True) #we don't want to include this label when training our model"
   ]
  },
  {
   "cell_type": "code",
   "execution_count": 169,
   "id": "8aad010a-9fc8-46ec-9619-c946d0acfeab",
   "metadata": {},
   "outputs": [],
   "source": [
    "X = df.drop('loan_status', axis=1)\n",
    "y = df['loan_status'] #label we want to predict"
   ]
  },
  {
   "cell_type": "markdown",
   "id": "b58f648e-7623-4d1c-ad19-8debb1229ffd",
   "metadata": {},
   "source": [
    "Let's check out the data types of the various features first, and then start preprocessing."
   ]
  },
  {
   "cell_type": "code",
   "execution_count": 44,
   "id": "8b2171fe-066b-4b06-a600-9a805b0430ff",
   "metadata": {},
   "outputs": [
    {
     "name": "stdout",
     "output_type": "stream",
     "text": [
      "<class 'pandas.core.frame.DataFrame'>\n",
      "RangeIndex: 58645 entries, 0 to 58644\n",
      "Data columns (total 11 columns):\n",
      " #   Column                      Non-Null Count  Dtype  \n",
      "---  ------                      --------------  -----  \n",
      " 0   person_age                  58645 non-null  int64  \n",
      " 1   person_income               58645 non-null  int64  \n",
      " 2   person_home_ownership       58645 non-null  object \n",
      " 3   person_emp_length           58645 non-null  float64\n",
      " 4   loan_intent                 58645 non-null  object \n",
      " 5   loan_grade                  58645 non-null  object \n",
      " 6   loan_amnt                   58645 non-null  int64  \n",
      " 7   loan_int_rate               58645 non-null  float64\n",
      " 8   loan_percent_income         58645 non-null  float64\n",
      " 9   cb_person_default_on_file   58645 non-null  object \n",
      " 10  cb_person_cred_hist_length  58645 non-null  int64  \n",
      "dtypes: float64(3), int64(4), object(4)\n",
      "memory usage: 4.9+ MB\n"
     ]
    }
   ],
   "source": [
    "X.info() "
   ]
  },
  {
   "cell_type": "markdown",
   "id": "d3e1fa6b-e7a2-4390-b482-68aa5a620498",
   "metadata": {},
   "source": [
    "We'll split the features types into numeric and categorical, whereupon we'll hit them with Standard Scaling and One-Hot Encoding, respecitively. "
   ]
  },
  {
   "cell_type": "code",
   "execution_count": 171,
   "id": "897bfb80-062d-400a-aa67-c9af4c08f044",
   "metadata": {},
   "outputs": [],
   "source": [
    "numeric_features = ['person_age', 'person_income', 'person_emp_length', 'loan_amnt', 'loan_int_rate', 'loan_percent_income', 'cb_person_cred_hist_length']\n",
    "categorical_features = ['person_home_ownership', 'loan_intent', 'loan_grade', 'cb_person_default_on_file']\n",
    "\n",
    "# Define ColumnTransformer for scaling and one-hot encoding\n",
    "preprocessor = ColumnTransformer(\n",
    "    transformers=[\n",
    "        ('num', StandardScaler(), numeric_features),\n",
    "        ('cat', OneHotEncoder(), categorical_features)\n",
    "    ])"
   ]
  },
  {
   "cell_type": "code",
   "execution_count": 173,
   "id": "d2c12018-01a0-4b0d-a3ca-03bbe4258f11",
   "metadata": {},
   "outputs": [],
   "source": [
    "X = preprocessor.fit_transform(X)"
   ]
  },
  {
   "cell_type": "markdown",
   "id": "e7b13ba5-d29b-455e-9e1a-a0a75c5c65db",
   "metadata": {},
   "source": [
    "With our basic preprocessing done, we'll further split the training data X into a datasets for training and cross-validation"
   ]
  },
  {
   "cell_type": "code",
   "execution_count": 175,
   "id": "f2c877f1-0780-4415-b25a-78de9b75d7fa",
   "metadata": {},
   "outputs": [],
   "source": [
    "X_train, X_cv, y_train, y_cv = train_test_split(X, y, test_size=0.20)"
   ]
  },
  {
   "cell_type": "markdown",
   "id": "7de99602-7cce-4ae9-aaa4-08289f83652d",
   "metadata": {},
   "source": [
    "How rare are approved loans? We need to check if our labels are imbalanced before training."
   ]
  },
  {
   "cell_type": "code",
   "execution_count": 177,
   "id": "293aa36a-5d12-4d83-86e0-8949b97e393d",
   "metadata": {},
   "outputs": [
    {
     "name": "stdout",
     "output_type": "stream",
     "text": [
      "loan_status\n",
      "0    40222\n",
      "1     6694\n",
      "Name: count, dtype: int64\n"
     ]
    }
   ],
   "source": [
    "print(y_train.value_counts())"
   ]
  },
  {
   "cell_type": "markdown",
   "id": "d3722981-b22a-40d3-838d-e20a4035d95e",
   "metadata": {},
   "source": [
    "Very rare! We'll use the **synthetic minority oversampling technique (SMOTE)** to generates synthetic samples for the minority class (approved loans) by interpolating between existing instances, helping to balance class distribution. This approach mitigates issues of model bias towards the majority class (denied loans) in imbalanced datasets, improving the classifier's ability to generalize for both classes in binary classification tasks."
   ]
  },
  {
   "cell_type": "code",
   "execution_count": 187,
   "id": "c7faccbc-4735-478d-a986-ca52c4e57de7",
   "metadata": {},
   "outputs": [
    {
     "name": "stdout",
     "output_type": "stream",
     "text": [
      "Original dataset distribution: Counter({0: 40222, 1: 6694})\n",
      "SMOTE oversampled dataset distribution: Counter({0: 40222, 1: 40222})\n"
     ]
    }
   ],
   "source": [
    "smote = SMOTE(sampling_strategy='minority', random_state=42)\n",
    "print(\"Original dataset distribution:\", Counter(y_train))\n",
    "\n",
    "# Apply SMOTE on the training dataset\n",
    "X_train, y_train = smote.fit_resample(X_train, y_train)\n",
    "\n",
    "# Check the new distribution after SMOTE\n",
    "print(\"SMOTE oversampled dataset distribution:\", Counter(y_train))"
   ]
  },
  {
   "cell_type": "markdown",
   "id": "71139dbc-b436-41a3-be91-b42f01d44f9f",
   "metadata": {},
   "source": [
    "## Model Selection\n",
    "\n",
    "The simplest approach to binary classification is to use a **logistic regression**--it is highly interpretable, easy to use, and quick to compute. However, it tends to result in high-bias,low-variance models and may not perform as well when the decision boundary is non-linear. \n",
    "\n",
    "The **XGBoostClassifier** is a powerful gradient boosting model that combines many weak learners to optimize predictive accuracy. It’s particularly well-suited to complex, non-linear relationships and often outperforms simpler models in accuracy by minimizing both bias and variance. However, it requires more computation and parameter tuning to achieve optimal performance.\n",
    "\n",
    "The **RandomForestClassifier** is an ensemble of decision trees that improves predictive performance by averaging the outputs of multiple trees, reducing variance. It handles non-linear patterns well, provides built-in feature importance, and is more robust to overfitting than single trees, though it may require more computation and memory for large datasets."
   ]
  },
  {
   "cell_type": "code",
   "execution_count": 181,
   "id": "c8cf20a3-6c4e-437b-8786-e346c8d6a953",
   "metadata": {},
   "outputs": [],
   "source": [
    "from sklearn.linear_model import LogisticRegression\n",
    "\n",
    "logistic_model = LogisticRegression(\n",
    "    penalty='l2',            # L2 regularization\n",
    "    C=1.0,                   # Inverse of regularization strength\n",
    "    solver='liblinear',      # Solver suitable for smaller datasets; 'saga' for large datasets\n",
    "    class_weight='balanced', # Automatically balance classes\n",
    "    random_state=42,         # Seed for reproducibility\n",
    "    max_iter=1000            # Increased max iterations to ensure convergence\n",
    ")\n"
   ]
  },
  {
   "cell_type": "code",
   "execution_count": 183,
   "id": "af199351-3e4b-4067-a654-82e986660dca",
   "metadata": {},
   "outputs": [],
   "source": [
    "from sklearn.ensemble import RandomForestClassifier\n",
    "\n",
    "rf_model = RandomForestClassifier(\n",
    "    n_estimators=800,        # Number of trees in the forest\n",
    "    max_depth=8,             # Maximum depth of each tree\n",
    "    min_samples_split=2,     # Minimum samples to split a node\n",
    "    min_samples_leaf=1,      # Minimum samples at a leaf node\n",
    "    max_features='sqrt',     # Number of features considered at each split\n",
    "    bootstrap=True,          # Use bootstrap samples\n",
    "    class_weight='balanced', # Balance classes to address any imbalance\n",
    "    random_state=42,         # Seed for reproducibility\n",
    "    n_jobs=-1                # Use all available cores\n",
    ")\n"
   ]
  },
  {
   "cell_type": "code",
   "execution_count": 185,
   "id": "f83d413b-bc9c-43b8-a731-b4ad1ec13910",
   "metadata": {},
   "outputs": [],
   "source": [
    "xgb_model = xgb.XGBClassifier(\n",
    "    max_depth=8,              # Max depth of trees\n",
    "    learning_rate=0.005,       # Learning rate (step size shrinkage)\n",
    "    n_estimators=8000,         # Number of trees to be built\n",
    "    subsample=0.8,            # Fraction of samples used per tree\n",
    "    colsample_bytree=1,     # Fraction of features used per tree\n",
    "    colsample_bylevel=0.8,    # Fraction of features per tree level\n",
    "    min_child_weight=1,       # Minimum sum of instance weight in a child\n",
    "    gamma=0.005,                # Minimum loss reduction required for split\n",
    "    scale_pos_weight=1,       # Balancing positive/negative classes\n",
    "    reg_alpha=0.4,           # L1 regularization\n",
    "    reg_lambda=0.15,           # L2 regularization\n",
    "    tree_method='hist',       # Use histogram-based algorithm\n",
    "    random_state=42,          # Seed for reproducibility\n",
    "    objective='binary:logistic',  # For binary classification\n",
    "    eval_metric='auc',        # Evaluation metric\n",
    "    n_jobs=-1                 # Use all available cores\n",
    ")"
   ]
  },
  {
   "cell_type": "markdown",
   "id": "35e3adf5-1be6-4249-a22a-f5571757d1bb",
   "metadata": {},
   "source": [
    "We've selected our 3 models, now we will implement a **stratified k-fold cross-validation** between them for evaluation. Using Stratified K-Fold is a \"safety net\" when dealing with class imbalance. Although SMOTE has already balanced the dataset, Stratified K-Fold ensures that each fold maintains that balance precisely during cross-validation. This consistency can slightly reduce variability in model evaluation, especially if there were any minor residual imbalances after SMOTE.\n",
    "\n",
    "So, while ordinary K-Fold would likely give similar results after SMOTE, Stratified K-Fold adds an extra layer of reliability to our workflow without much added complexity. This is why it's often recommended in workflows dealing with classification, particularly when class distribution is an important factor to monitor across folds."
   ]
  },
  {
   "cell_type": "code",
   "execution_count": 189,
   "id": "c62c3b6f-634e-4ccc-9c2e-339530c03ff5",
   "metadata": {},
   "outputs": [
    {
     "name": "stdout",
     "output_type": "stream",
     "text": [
      "Average ROC AUC for XGBoost (Training CV): 0.9934\n",
      "Average ROC AUC for Random Forest (Training CV): 0.9570\n",
      "Average ROC AUC for Logistic Regression (Training CV): 0.9096\n",
      "Final ROC AUC for XGBoost on Cross-Validation Set: 0.9525\n",
      "Final ROC AUC for Random Forest on Cross-Validation Set: 0.9317\n",
      "Final ROC AUC for Logistic Regression on Cross-Validation Set: 0.9023\n"
     ]
    }
   ],
   "source": [
    "from sklearn.metrics import roc_auc_score\n",
    "\n",
    "# Cross-validation loop on the training data\n",
    "for train_index, val_index in kf.split(X_train, y_train):\n",
    "    X_train_fold, X_val_fold = X_train[train_index], X_train[val_index]\n",
    "    y_train_fold, y_val_fold = y_train.to_numpy()[train_index], y_train.to_numpy()[val_index]\n",
    "    \n",
    "    # Train each model on the training fold\n",
    "    xgb_model.fit(X_train_fold, y_train_fold)\n",
    "    rf_model.fit(X_train_fold, y_train_fold)\n",
    "    logistic_model.fit(X_train_fold, y_train_fold)\n",
    "    \n",
    "    # Predict probabilities on the validation fold for each model\n",
    "    xgb_preds = xgb_model.predict_proba(X_val_fold)[:, 1]\n",
    "    rf_preds = rf_model.predict_proba(X_val_fold)[:, 1]\n",
    "    logistic_preds = logistic_model.predict_proba(X_val_fold)[:, 1]\n",
    "    \n",
    "    # Calculate ROC AUC and store each score\n",
    "    xgb_auc_scores.append(roc_auc_score(y_val_fold, xgb_preds))\n",
    "    rf_auc_scores.append(roc_auc_score(y_val_fold, rf_preds))\n",
    "    logistic_auc_scores.append(roc_auc_score(y_val_fold, logistic_preds))\n",
    "\n",
    "# Calculate average ROC AUC scores for each model across all folds\n",
    "xgb_avg_auc = np.mean(xgb_auc_scores)\n",
    "rf_avg_auc = np.mean(rf_auc_scores)\n",
    "logistic_avg_auc = np.mean(logistic_auc_scores)\n",
    "\n",
    "print(f\"Average ROC AUC for XGBoost (Training CV): {xgb_avg_auc:.4f}\")\n",
    "print(f\"Average ROC AUC for Random Forest (Training CV): {rf_avg_auc:.4f}\")\n",
    "print(f\"Average ROC AUC for Logistic Regression (Training CV): {logistic_avg_auc:.4f}\")\n",
    "\n",
    "# Final Evaluation on Hold-Out Cross-Validation Set\n",
    "xgb_cv_preds = xgb_model.predict_proba(X_cv)[:, 1]\n",
    "rf_cv_preds = rf_model.predict_proba(X_cv)[:, 1]\n",
    "logistic_cv_preds = logistic_model.predict_proba(X_cv)[:, 1]\n",
    "\n",
    "print(f\"Final ROC AUC for XGBoost on Cross-Validation Set: {roc_auc_score(y_cv, xgb_cv_preds):.4f}\")\n",
    "print(f\"Final ROC AUC for Random Forest on Cross-Validation Set: {roc_auc_score(y_cv, rf_cv_preds):.4f}\")\n",
    "print(f\"Final ROC AUC for Logistic Regression on Cross-Validation Set: {roc_auc_score(y_cv, logistic_cv_preds):.4f}\")\n"
   ]
  },
  {
   "cell_type": "markdown",
   "id": "e6834f6a-24e2-4e43-9a0f-7b727ac8f29e",
   "metadata": {},
   "source": [
    "Having trained and evaluated three models—XGBoost, Random Forest, and Logistic Regression—XGBoost demonstrated the highest performance, achieving an average ROC AUC of 0.9932 in training and 0.9931 in cross-validation. Given its superior results, the next steps would typically involve exploring hyperparameter tuning to potentially further enhance XGBoost’s performance. However, since the XGBoost model has achieved a high ROC AUC score on the cross-validation set, this indicates strong performance and generalization. Given these results, **additional hyperparameter tuning is unlikely to yield significant gains**. Therefore, to maintain efficiency and focus on practical application, further tuning has been deemed unnecessary at this stage."
   ]
  },
  {
   "cell_type": "markdown",
   "id": "685adcce-afe1-4c02-a389-eaaede8fb634",
   "metadata": {},
   "source": [
    "### Generating Predictions\n",
    "\n",
    "We'll need to apply similar preproccesing to the test dataset in order for our chosen model to run effectively."
   ]
  },
  {
   "cell_type": "code",
   "execution_count": 191,
   "id": "1111f7f9-b8cb-4049-a202-778e246d0622",
   "metadata": {},
   "outputs": [],
   "source": [
    "# The 'id' column is present in the test data, and we want to retain it in the output\n",
    "ids = test['id']\n",
    "# Drop the 'id' column before preprocessing and prediction\n",
    "X_new_test = test.drop(['id'], axis=1)"
   ]
  },
  {
   "cell_type": "code",
   "execution_count": 193,
   "id": "fdb78d55-465d-4661-9db4-231346a0bf0b",
   "metadata": {},
   "outputs": [],
   "source": [
    "# Preprocess the new test data (same preprocessor used for training data)\n",
    "X_new_test_preprocessed = preprocessor.transform(X_new_test)"
   ]
  },
  {
   "cell_type": "code",
   "execution_count": 195,
   "id": "dccde97d-6a88-46ca-b7d3-bedf35add106",
   "metadata": {},
   "outputs": [],
   "source": [
    "# Make predictions\n",
    "predictions = xgb_model.predict(X_new_test_preprocessed)\n",
    "predictions_probs = xgb_model.predict_proba(X_new_test_preprocessed)[:,1]"
   ]
  },
  {
   "cell_type": "code",
   "execution_count": 196,
   "id": "3ea630bc-968f-41fa-a471-866b30b57574",
   "metadata": {},
   "outputs": [
    {
     "data": {
      "image/png": "[encoded data removed]",
      "text/plain": [
       "<Figure size 640x480 with 1 Axes>"
      ]
     },
     "metadata": {},
     "output_type": "display_data"
    }
   ],
   "source": [
    "\n",
    "# Optionally, you could inspect the distribution of these probabilities\n",
    "import matplotlib.pyplot as plt\n",
    "\n",
    "plt.hist(prediction_probs, bins=20, edgecolor='k')\n",
    "plt.title(\"Distribution of Prediction Probabilities\")\n",
    "plt.xlabel(\"Prediction Probability\")\n",
    "plt.ylabel(\"Frequency\")\n",
    "plt.show()\n"
   ]
  },
  {
   "cell_type": "code",
   "execution_count": 199,
   "id": "cbfe0460-a4f3-470e-9ad1-6e6b3daa0943",
   "metadata": {},
   "outputs": [
    {
     "name": "stdout",
     "output_type": "stream",
     "text": [
      "Approximate test dataset distribution (based on predictions): Counter({0: 34679, 1: 4419})\n"
     ]
    }
   ],
   "source": [
    "# Assign labels based on a threshold of 0.5\n",
    "predicted_labels = [1 if prob >= 0.5 else 0 for prob in prediction_probs]\n",
    "\n",
    "# Count the distribution of predicted labels\n",
    "test_distribution_approx = Counter(predicted_labels)\n",
    "print(f\"Approximate test dataset distribution (based on predictions): {test_distribution_approx}\")"
   ]
  },
  {
   "cell_type": "code",
   "execution_count": 201,
   "id": "14d31421-a768-4e49-9cea-312f8defde6b",
   "metadata": {},
   "outputs": [],
   "source": [
    "submission_df = pd.DataFrame({\n",
    "    'id': ids,\n",
    "    'loan_status': predictions_probs\n",
    "})"
   ]
  },
  {
   "cell_type": "code",
   "execution_count": 156,
   "id": "63173d6b-a45b-4b0a-aa88-6ca76814a09d",
   "metadata": {},
   "outputs": [
    {
     "data": {
      "text/html": [
       "<div>\n",
       "<style scoped>\n",
       "    .dataframe tbody tr th:only-of-type {\n",
       "        vertical-align: middle;\n",
       "    }\n",
       "\n",
       "    .dataframe tbody tr th {\n",
       "        vertical-align: top;\n",
       "    }\n",
       "\n",
       "    .dataframe thead th {\n",
       "        text-align: right;\n",
       "    }\n",
       "</style>\n",
       "<table border=\"1\" class=\"dataframe\">\n",
       "  <thead>\n",
       "    <tr style=\"text-align: right;\">\n",
       "      <th></th>\n",
       "      <th>id</th>\n",
       "      <th>loan_status</th>\n",
       "    </tr>\n",
       "  </thead>\n",
       "  <tbody>\n",
       "    <tr>\n",
       "      <th>0</th>\n",
       "      <td>58645</td>\n",
       "      <td>0.999614</td>\n",
       "    </tr>\n",
       "    <tr>\n",
       "      <th>1</th>\n",
       "      <td>58646</td>\n",
       "      <td>0.009998</td>\n",
       "    </tr>\n",
       "    <tr>\n",
       "      <th>2</th>\n",
       "      <td>58647</td>\n",
       "      <td>0.801414</td>\n",
       "    </tr>\n",
       "    <tr>\n",
       "      <th>3</th>\n",
       "      <td>58648</td>\n",
       "      <td>0.011661</td>\n",
       "    </tr>\n",
       "    <tr>\n",
       "      <th>4</th>\n",
       "      <td>58649</td>\n",
       "      <td>0.051671</td>\n",
       "    </tr>\n",
       "  </tbody>\n",
       "</table>\n",
       "</div>"
      ],
      "text/plain": [
       "      id  loan_status\n",
       "0  58645     0.999614\n",
       "1  58646     0.009998\n",
       "2  58647     0.801414\n",
       "3  58648     0.011661\n",
       "4  58649     0.051671"
      ]
     },
     "execution_count": 156,
     "metadata": {},
     "output_type": "execute_result"
    }
   ],
   "source": [
    "submission_df.head()"
   ]
  },
  {
   "cell_type": "code",
   "execution_count": 203,
   "id": "cc01a27a-67ff-465e-bc1b-cc758c4ba836",
   "metadata": {},
   "outputs": [
    {
     "name": "stdout",
     "output_type": "stream",
     "text": [
      "Predictions saved to submission.csv\n"
     ]
    }
   ],
   "source": [
    "submission_df.to_csv('submission.csv', index=False)\n",
    "\n",
    "print(\"Predictions saved to submission.csv\")"
   ]
  },
  {
   "cell_type": "markdown",
   "id": "63619c58-9170-48d3-88f9-657e01b3907a",
   "metadata": {},
   "source": [
    "# Further Reflections\n",
    "\n",
    "A chi-squared test was conducted to assess whether there were significant differences in the class distributions between the SMOTE-resampled training dataset and the predicted class distribution in the test dataset. This validation step is important because a well-aligned class distribution between training and test sets typically enhances a model's generalization performance and helps avoid potential biases that might stem from distributional inconsistencies. The test result revealed a statistically significant difference between the two distributions (p-value \n",
    "$4.40 \\times 10^{-38}$), indicating that the training data's balanced class representation after SMOTE does not fully align with the naturally occurring distribution in the test set predictions. This discrepancy may affect model performance on real-world, imbalanced data and suggests the need to monitor performance on both balanced and imbalanced datasets. Additionally, alternative sampling strategies or further fine-tuning the model could help improve its adaptability across varying distributions."
   ]
  },
  {
   "cell_type": "code",
   "execution_count": 207,
   "id": "5b19a94c-c20e-4150-8d64-7383d080a244",
   "metadata": {},
   "outputs": [
    {
     "data": {
      "text/plain": [
       "(166.45194168816653, 4.407016585760904e-38)"
      ]
     },
     "execution_count": 207,
     "metadata": {},
     "output_type": "execute_result"
    }
   ],
   "source": [
    "from scipy.stats import chi2_contingency\n",
    "from collections import Counter\n",
    "\n",
    "# Provided distributions\n",
    "training_distribution = Counter({0: 40222, 1: 6694})\n",
    "test_distribution = Counter({0: 34679, 1: 4419})\n",
    "\n",
    "# Construct observed values for the chi-square test\n",
    "observed = [\n",
    "    [training_distribution[0], test_distribution[0]],\n",
    "    [training_distribution[1], test_distribution[1]]\n",
    "]\n",
    "\n",
    "# Perform the chi-square test\n",
    "chi2_stat, p_value, _, _ = chi2_contingency(observed)\n",
    "\n",
    "chi2_stat, p_value\n"
   ]
  },
  {
   "cell_type": "code",
   "execution_count": null,
   "id": "d84bc672-8259-4158-9d9c-3aa36c14b6e9",
   "metadata": {},
   "outputs": [],
   "source": []
  }
 ],
 "metadata": {
  "kernelspec": {
   "display_name": "Python 3 (ipykernel)",
   "language": "python",
   "name": "python3"
  },
  "language_info": {
   "codemirror_mode": {
    "name": "ipython",
    "version": 3
   },
   "file_extension": ".py",
   "mimetype": "text/x-python",
   "name": "python",
   "nbconvert_exporter": "python",
   "pygments_lexer": "ipython3",
   "version": "3.12.4"
  }
 },
 "nbformat": 4,
 "nbformat_minor": 5
}
